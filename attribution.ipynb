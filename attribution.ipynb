{
 "cells": [
  {
   "cell_type": "code",
   "execution_count": 11,
   "metadata": {},
   "outputs": [],
   "source": [
    "import numpy as np\n",
    "import pandas as pd"
   ]
  },
  {
   "cell_type": "code",
   "execution_count": 12,
   "metadata": {},
   "outputs": [],
   "source": [
    "purchase_frequency_data = {\n",
    "    'PurchaseFrequency': [3.0, 3.5, 4.0, 4.2, 4.3, 4.4, 4.5, 4.6, 4.6, 4.5],\n",
    "    'ProductSubcategory': ['Mountain Bikes', 'Road Bikes', 'Hybrid Bikes', 'Hybrid Bikes', 'BMX Bikes',\n",
    "                            'Mountain Bikes', 'Road Bikes', 'Hybrid Bikes', 'Hybrid Bikes', 'BMX Bikes'],\n",
    "    'Color': ['Silver', 'Black', 'Red', 'Blue', 'White', 'Silver', 'Black', 'Red', 'Blue', 'White'],\n",
    "    'SalesDate': ['2023-11-05', '2023-07-21', '2022-12-15', '2022-09-30', '2022-06-14', '2021-08-09', '2021-04-18', \n",
    "                   '2020-11-25', '2020-07-30', '2020-03-08']\n",
    "}\n",
    "\n",
    "df_PurchaseFrequency = pd.DataFrame(purchase_frequency_data)\n",
    "\n"
   ]
  },
  {
   "cell_type": "code",
   "execution_count": 13,
   "metadata": {},
   "outputs": [],
   "source": [
    "churn_risk_score_data = {\n",
    "    'ChurnRiskScore': [0.15, 0.14, 0.13, 0.12, 0.11, 0.11, 0.12, 0.13, 0.12, 0.12],\n",
    "    'Region': ['Northwest', 'Northeast', 'Midwest', 'South', 'West', 'Northwest', 'Northeast', 'Midwest', 'South', 'Northwest'],\n",
    "    'Segment': ['Individual', 'Corporate', 'Individual', 'Individual', 'Individual', 'Corporate', 'Individual', \n",
    "                'Corporate', 'Individual', 'Individual']\n",
    "}\n",
    "\n",
    "df_ChurnRiskScore = pd.DataFrame(churn_risk_score_data)"
   ]
  },
  {
   "cell_type": "code",
   "execution_count": 14,
   "metadata": {},
   "outputs": [],
   "source": [
    "cltv_data = {\n",
    "    'CLTV': [1200.0, 1250.0, 1300.0, 1350.0, 1400.0, 1450.0, 1475.0, 1490.0, 1495.0, 1500.0],\n",
    "    'Segment': ['Individual', 'Corporate', 'Individual', 'Corporate', 'Corporate', 'Corporate', 'Corporate', \n",
    "                'Corporate', 'Individual', 'Corporate'],\n",
    "    'IncomeBracket': ['Low', 'Low-Medium', 'Medium', 'Medium-High', 'High', 'Medium-High', 'Low-Medium', 'Medium', 'Medium-High', 'Medium-High']\n",
    "}\n",
    "\n",
    "df_CLTV = pd.DataFrame(cltv_data)\n"
   ]
  },
  {
   "cell_type": "code",
   "execution_count": 15,
   "metadata": {},
   "outputs": [],
   "source": [
    "aov_data = {\n",
    "    'AOV': [100.0, 105.0, 110.0, 115.0, 120.0, 125.0, 130.0, 132.0, 134.0, 135.8],\n",
    "    'AgeGroup': ['18-24', '25-34', '35-44', '45-54', '55+', '18-24', '25-34', '35-44', '45-54', '55+'],\n",
    "    'PaymentType': ['Credit Card', 'Cash', 'Check', 'Online', 'Credit Card', 'Online', 'Online', 'Online', 'Credit Card', 'Cash'],\n",
    "    'IncomeBracket': ['Low', 'Low-Medium', 'Medium', 'Medium-High', 'High', 'Low', 'Low-Medium', 'Medium', 'Medium-High', 'High']\n",
    "}\n",
    "\n",
    "df_AOV = pd.DataFrame(aov_data)\n"
   ]
  },
  {
   "cell_type": "code",
   "execution_count": 16,
   "metadata": {},
   "outputs": [],
   "source": [
    "revenue_data = {\n",
    "    'Revenue': [450000.0, 460000.0, 470000.0, 480000.0, 490000.0, 495000.0, 500000.0, 510000.0, 520000.0, 530000.0],\n",
    "    'Region': ['Northwest', 'Northeast', 'Northwest', 'Northwest', 'West', 'Northwest', 'Northeast', 'Midwest', 'South', 'West'],\n",
    "    'Segment': ['Individual', 'Corporate', 'Individual', 'Corporate', 'Individual', 'Corporate', 'Individual', \n",
    "                'Corporate', 'Individual', 'Corporate'],\n",
    "    'ProductCategory': ['Bikes', 'Components', 'Bikes', 'Accessories', 'Helmets', 'Bikes', 'Components', \n",
    "                         'Clothing', 'Bikes', 'Helmets']\n",
    "}\n",
    "\n",
    "df_Revenue = pd.DataFrame(revenue_data)"
   ]
  },
  {
   "cell_type": "code",
   "execution_count": 20,
   "metadata": {},
   "outputs": [
    {
     "name": "stdout",
     "output_type": "stream",
     "text": [
      "Correlations for metric 'Revenue':\n",
      "Region             0.298773\n",
      "Segment           -0.183368\n",
      "ProductCategory    0.318907\n",
      "Name: Revenue, dtype: float64\n"
     ]
    }
   ],
   "source": [
    "def calculate_correlation_for_metric_and_dimensions(metric, dimensions):\n",
    "    mapping = {\n",
    "    'Revenue': df_Revenue,\n",
    "    'AOV': df_AOV,\n",
    "    'CLTV':df_CLTV,\n",
    "    'ChurnRiskScore':df_ChurnRiskScore,\n",
    "    'PurchaseFrequency':df_PurchaseFrequency\n",
    "    }\n",
    "    if metric not in mapping:\n",
    "        raise ValueError(f\"Metric '{metric}' not found in the mapping.\")\n",
    "    \n",
    "    df = mapping[metric]\n",
    "    \n",
    "    selected_columns = [metric] + [dim for dim in dimensions if dim in df.columns]\n",
    "    \n",
    "    if len(selected_columns) < 2:\n",
    "        raise ValueError(\"Not enough valid columns found in the DataFrame for correlation calculation.\")\n",
    "    \n",
    "    df_selected = df[selected_columns].copy()\n",
    "    \n",
    "    # Encoding non-numeric columns\n",
    "    for col in df_selected.columns:\n",
    "        if not pd.api.types.is_numeric_dtype(df_selected[col]):\n",
    "            df_selected[col] = df_selected[col].astype('category').cat.codes\n",
    "    \n",
    "    correlation_matrix = df_selected.corr()\n",
    "    correlation_matrix.drop([metric],axis=1,inplace=True)\n",
    "    return correlation_matrix.loc[metric]\n",
    "\n",
    "metric = 'Revenue'\n",
    "dimensions = ['Region', 'Segment', 'ProductCategory']\n",
    "\n",
    "try:\n",
    "    correlations = calculate_correlation_for_metric_and_dimensions(metric, dimensions)\n",
    "    print(f\"Correlations for metric '{metric}':\")\n",
    "    print(correlations)\n",
    "except ValueError as e:\n",
    "    print(f\"Error: {e}\")"
   ]
  },
  {
   "cell_type": "code",
   "execution_count": null,
   "metadata": {},
   "outputs": [],
   "source": []
  }
 ],
 "metadata": {
  "kernelspec": {
   "display_name": ".venv",
   "language": "python",
   "name": "python3"
  },
  "language_info": {
   "codemirror_mode": {
    "name": "ipython",
    "version": 3
   },
   "file_extension": ".py",
   "mimetype": "text/x-python",
   "name": "python",
   "nbconvert_exporter": "python",
   "pygments_lexer": "ipython3",
   "version": "3.12.3"
  }
 },
 "nbformat": 4,
 "nbformat_minor": 2
}
