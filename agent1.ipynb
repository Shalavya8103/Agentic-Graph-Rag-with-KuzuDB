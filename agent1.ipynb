{
 "cells": [
  {
   "cell_type": "code",
   "execution_count": 1,
   "metadata": {},
   "outputs": [],
   "source": [
    "import kuzu\n",
    "import pandas as pd\n",
    "import numpy as np\n",
    "import json"
   ]
  },
  {
   "cell_type": "code",
   "execution_count": 2,
   "metadata": {},
   "outputs": [],
   "source": [
    "purchase_frequency_data = {\n",
    "    'PurchaseFrequency': [3.0, 3.5, 4.0, 4.2, 4.3, 4.4, 4.5, 4.6, 4.6, 4.5],\n",
    "    'ProductSubcategory': ['Mountain Bikes', 'Road Bikes', 'Hybrid Bikes', 'Hybrid Bikes', 'BMX Bikes',\n",
    "                            'Mountain Bikes', 'Road Bikes', 'Hybrid Bikes', 'Hybrid Bikes', 'BMX Bikes'],\n",
    "    'Color': ['Silver', 'Black', 'Red', 'Blue', 'White', 'Silver', 'Black', 'Red', 'Blue', 'White'],\n",
    "    'SalesDate': ['2023-11-05', '2023-07-21', '2022-12-15', '2022-09-30', '2022-06-14', '2021-08-09', '2021-04-18', \n",
    "                   '2020-11-25', '2020-07-30', '2020-03-08']\n",
    "}\n",
    "\n",
    "df_PurchaseFrequency = pd.DataFrame(purchase_frequency_data)\n",
    "\n",
    "churn_risk_score_data = {\n",
    "    'ChurnRiskScore': [0.15, 0.14, 0.13, 0.12, 0.11, 0.11, 0.12, 0.13, 0.12, 0.12],\n",
    "    'Region': ['Northwest', 'Northeast', 'Midwest', 'South', 'West', 'Northwest', 'Northeast', 'Midwest', 'South', 'Northwest'],\n",
    "    'Segment': ['Individual', 'Corporate', 'Individual', 'Individual', 'Individual', 'Corporate', 'Individual', \n",
    "                'Corporate', 'Individual', 'Individual']\n",
    "}\n",
    "\n",
    "df_ChurnRiskScore = pd.DataFrame(churn_risk_score_data)\n",
    "\n",
    "cltv_data = {\n",
    "    'CLTV': [1200.0, 1250.0, 1300.0, 1350.0, 1400.0, 1450.0, 1475.0, 1490.0, 1495.0, 1500.0],\n",
    "    'Segment': ['Individual', 'Corporate', 'Individual', 'Corporate', 'Corporate', 'Corporate', 'Corporate', \n",
    "                'Corporate', 'Individual', 'Corporate'],\n",
    "    'IncomeBracket': ['Low', 'Low-Medium', 'Medium', 'Medium-High', 'High', 'Medium-High', 'Low-Medium', 'Medium', 'Medium-High', 'Medium-High']\n",
    "}\n",
    "\n",
    "df_CLTV = pd.DataFrame(cltv_data)\n",
    "aov_data = {\n",
    "    'AOV': [100.0, 105.0, 110.0, 115.0, 120.0, 125.0, 130.0, 132.0, 134.0, 135.8],\n",
    "    'AgeGroup': ['18-24', '25-34', '35-44', '45-54', '55+', '18-24', '25-34', '35-44', '45-54', '55+'],\n",
    "    'PaymentType': ['Credit Card', 'Cash', 'Check', 'Online', 'Credit Card', 'Online', 'Online', 'Online', 'Credit Card', 'Cash'],\n",
    "    'IncomeBracket': ['Low', 'Low-Medium', 'Medium', 'Medium-High', 'High', 'Low', 'Low-Medium', 'Medium', 'Medium-High', 'High']\n",
    "}\n",
    "\n",
    "df_AOV = pd.DataFrame(aov_data)\n",
    "revenue_data = {\n",
    "    'Revenue': [450000.0, 460000.0, 470000.0, 480000.0, 490000.0, 495000.0, 500000.0, 510000.0, 520000.0, 530000.0],\n",
    "    'Region': ['Northwest', 'Northeast', 'Northwest', 'Northwest', 'West', 'Northwest', 'Northeast', 'Midwest', 'South', 'West'],\n",
    "    'Segment': ['Individual', 'Corporate', 'Individual', 'Corporate', 'Individual', 'Corporate', 'Individual', \n",
    "                'Corporate', 'Individual', 'Corporate'],\n",
    "    'ProductCategory': ['Bikes', 'Components', 'Bikes', 'Accessories', 'Helmets', 'Bikes', 'Components', \n",
    "                         'Clothing', 'Bikes', 'Helmets']\n",
    "}\n",
    "\n",
    "df_Revenue = pd.DataFrame(revenue_data)"
   ]
  },
  {
   "cell_type": "code",
   "execution_count": 3,
   "metadata": {},
   "outputs": [],
   "source": [
    "from langchain_kuzu.graphs.kuzu_graph import KuzuGraph\n",
    "from langchain_kuzu.chains.graph_qa.kuzu import KuzuQAChain\n",
    "from langchain_groq import ChatGroq\n",
    "from langchain.agents import AgentType, initialize_agent\n",
    "from langchain.tools import Tool\n",
    "from langgraph.prebuilt import create_react_agent\n"
   ]
  },
  {
   "cell_type": "code",
   "execution_count": 4,
   "metadata": {},
   "outputs": [],
   "source": [
    "# Initialize database\n",
    "db = kuzu.Database(\"./knowledge_graph\")\n",
    "conn = kuzu.Connection(db)\n",
    "graph = KuzuGraph(db, allow_dangerous_requests=True)"
   ]
  },
  {
   "cell_type": "code",
   "execution_count": 12,
   "metadata": {},
   "outputs": [],
   "source": [
    "#LLM instance\n",
    "llm_groq=ChatGroq(\n",
    "    model=\"llama3-70b-8192\", \n",
    "    temperature=0.3, \n",
    "    api_key=\"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\"\n",
    "    )"
   ]
  },
  {
   "cell_type": "code",
   "execution_count": 13,
   "metadata": {},
   "outputs": [],
   "source": [
    "#Kuzu Tool\n",
    "qa_chain = KuzuQAChain.from_llm(\n",
    "    llm=llm_groq,\n",
    "    graph=graph,\n",
    "    verbose=True,\n",
    "    allow_dangerous_requests=True\n",
    ")\n",
    "\n",
    "kuzu_tool = Tool(\n",
    "    name=\"Kuzu Query Tool\",\n",
    "    description=\"A tool for querying the Kùzu graph database.\",\n",
    "    func=qa_chain.run,\n",
    "    )\n"
   ]
  },
  {
   "cell_type": "code",
   "execution_count": 14,
   "metadata": {},
   "outputs": [],
   "source": [
    "#Correlation tool\n",
    "def calculate_correlation(metric, dimensions):\n",
    "    mapping = {\n",
    "    'Revenue': df_Revenue,\n",
    "    'AOV': df_AOV,\n",
    "    'CLTV':df_CLTV,\n",
    "    'ChurnRiskScore':df_ChurnRiskScore,\n",
    "    'PurchaseFrequency':df_PurchaseFrequency\n",
    "    }\n",
    "    if metric not in mapping:\n",
    "        raise ValueError(f\"Metric '{metric}' not found in the mapping.\")\n",
    "    \n",
    "    df = mapping[metric]\n",
    "    \n",
    "    selected_columns = [metric] + [dim for dim in dimensions if dim in df.columns]\n",
    "    \n",
    "    if len(selected_columns) < 2:\n",
    "        raise ValueError(\"Not enough valid columns found in the DataFrame for correlation calculation.\")\n",
    "    \n",
    "    df_selected = df[selected_columns].copy()\n",
    "    \n",
    "    # Encoding non-numeric columns\n",
    "    for col in df_selected.columns:\n",
    "        if not pd.api.types.is_numeric_dtype(df_selected[col]):\n",
    "            df_selected[col] = df_selected[col].astype('category').cat.codes\n",
    "    \n",
    "    correlation_matrix = df_selected.corr()\n",
    "    correlation_matrix.drop([metric],axis=1,inplace=True)\n",
    "    return correlation_matrix.loc[metric]\n",
    "\n",
    "def calculate_correlation_tool(input_str):\n",
    "    \"\"\"\n",
    "    Expects a JSON string with keys 'metric' and 'dimensions'. For example:\n",
    "    {\"metric\": \"Revenue\", \"dimensions\": [\"Region\", \"Segment\", \"ProductCategory\"]}\n",
    "    \"\"\"\n",
    "    try:\n",
    "        data = json.loads(input_str)\n",
    "        if isinstance(data, dict) and \"__arg1\" in data:\n",
    "            inner_input = data[\"__arg1\"]\n",
    "            # If inner_input is a string, try parsing it as JSON\n",
    "            if isinstance(inner_input, str):\n",
    "                data = json.loads(inner_input)\n",
    "            else:\n",
    "                data = inner_input\n",
    "        metric = data.get(\"metric\")\n",
    "        dimensions = data.get(\"dimensions\")\n",
    "        if not metric or not dimensions:\n",
    "            return \"Error: Input must contain both 'metric' and 'dimensions'.\"\n",
    "        \n",
    "        result = calculate_correlation(metric, dimensions)\n",
    "        return result.to_json()\n",
    "    except Exception as e:\n",
    "        return f\"Error: {str(e)}\"\n",
    "\n",
    "#print(calculate_correlation_tool())\n",
    "    \n",
    "correlation_tool = Tool(\n",
    "    name=\"calculate_correlation_tool\",\n",
    "    description=(\n",
    "        \"A tool for calculating the correlation between a given metric and dimensions. \"\n",
    "        \"Input must be a JSON string with keys 'metric' and 'dimensions'. For example:\"\n",
    "        '{\"metric\":, \"dimensions\": []}'\n",
    "    ),\n",
    "    func=calculate_correlation_tool\n",
    "    )\n"
   ]
  },
  {
   "cell_type": "code",
   "execution_count": 15,
   "metadata": {},
   "outputs": [],
   "source": [
    "#REACT AGENT\n",
    "prompt = (\n",
    "    \"You are an AI analyst specializing in data analytics for metrics and dimensions. Your goal is to provide clear, concise answers to the user queries. \"\n",
    "    \"When answering questions, you may internally use various tools to retrieve or analyze data, but you must not mention the names of these tools in your final answer. \"\n",
    "    \"Instead, simply provide the insights and data that directly address the user's query. \\n\\n\"\n",
    "    \n",
    "    \"Your job is to answer queries by choosing the most appropriate tool:\\n\\n\"\n",
    "    \n",
    "    \"1. Use the 'Kuzu Query Tool' for queries that request data retrieval or general insights about changes in metrics. \"\n",
    "    \"For example, if the query asks for 'changes in metrics' or 'what has happened', use the Kùzu Query Tool.\\n\\n\"\n",
    "    \n",
    "    \"2. Use the 'Correlation Tool' only when the query explicitly asks for the cause of a change in a metric, or for a correlation or relationship analysis between a metric and dimensions. \"\n",
    "    \"In these cases, first retrieve the relevant dimensions that drive the metric and are associated with it from the graph (using the Kùzu Query Tool) and then pass these dimensions along with the metric to the Correlation Tool. \"\n",
    "    \"When calling the Correlation Tool, provide a JSON object with keys 'metric' and 'dimensions'. For example: \"\n",
    "    '{\"metric\": \"Revenue\", \"dimensions\": [\"Region\", \"Segment\", \"ProductCategory\"]}.\\n\\n'\n",
    "    \n",
    "    \"Always think step by step and decide which tool best suits the user's query. \"\n",
    "    \"If the query does not explicitly request a correlation analysis, do not call the Correlation Tool.\"\n",
    ")\n",
    "\n",
    "\n",
    "\n",
    "agent = create_react_agent(\n",
    "    model=llm_groq,\n",
    "    tools=[kuzu_tool,correlation_tool],\n",
    "    prompt=prompt\n",
    ")"
   ]
  },
  {
   "cell_type": "code",
   "execution_count": 16,
   "metadata": {},
   "outputs": [
    {
     "name": "stdout",
     "output_type": "stream",
     "text": [
      "\n",
      "\n",
      "\u001b[1m> Entering new KuzuQAChain chain...\u001b[0m\n",
      "Generated Cypher:\n",
      "\u001b[32;1m\u001b[1;3mMATCH (u:User {user_id: '1'})-[:Associated]->(m:Metrics) RETURN m.metric_id, m.metric_name, m.cur_value, m.change ORDER BY m.change DESC;\u001b[0m\n",
      "Full Context:\n",
      "\u001b[32;1m\u001b[1;3m[{'m.metric_id': 'Revenue', 'm.metric_name': 'Revenue', 'm.cur_value': 500000.0, 'm.change': 10000.0}, {'m.metric_id': 'AOV', 'm.metric_name': 'AOV', 'm.cur_value': 135.8, 'm.change': 12.8}, {'m.metric_id': 'CLTV', 'm.metric_name': 'CLTV', 'm.cur_value': 1500.0, 'm.change': 5.0}, {'m.metric_id': 'PurchaseFrequency', 'm.metric_name': 'PurchaseFrequency', 'm.cur_value': 4.5, 'm.change': 2.2}, {'m.metric_id': 'ChurnRiskScore', 'm.metric_name': 'ChurnRiskScore', 'm.cur_value': 0.12, 'm.change': -1.5}]\u001b[0m\n",
      "\n",
      "\u001b[1m> Finished chain.\u001b[0m\n"
     ]
    },
    {
     "data": {
      "text/plain": [
       "{'messages': [HumanMessage(content='give the significant changes in metrics for user 1', additional_kwargs={}, response_metadata={}, id='4f0fada3-52d3-44b8-bddb-271232562ce9'),\n",
       "  AIMessage(content='', additional_kwargs={'tool_calls': [{'id': 'call_ctq0', 'function': {'arguments': '{\"__arg1\":\"changes in metrics for user 1\"}', 'name': 'Kuzu Query Tool'}, 'type': 'function'}]}, response_metadata={'token_usage': {'completion_tokens': 75, 'prompt_tokens': 1373, 'total_tokens': 1448, 'completion_time': 0.235860983, 'prompt_time': 0.163460015, 'queue_time': 0.06277755300000001, 'total_time': 0.399320998}, 'model_name': 'llama3-70b-8192', 'system_fingerprint': 'fp_2f30b0b571', 'finish_reason': 'tool_calls', 'logprobs': None}, id='run-c95eddb2-af2c-409f-8d69-f47ff543238c-0', tool_calls=[{'name': 'Kuzu Query Tool', 'args': {'__arg1': 'changes in metrics for user 1'}, 'id': 'call_ctq0', 'type': 'tool_call'}], usage_metadata={'input_tokens': 1373, 'output_tokens': 75, 'total_tokens': 1448}),\n",
       "  ToolMessage(content='The changes in metrics for user 1 are: Revenue increased by 10000.0, AOV increased by 12.8, CLTV increased by 5.0, PurchaseFrequency increased by 2.2, and ChurnRiskScore decreased by 1.5.', name='Kuzu Query Tool', id='86f05b0f-6d73-4a02-98f1-d5a455c5539b', tool_call_id='call_ctq0'),\n",
       "  AIMessage(content='The changes in metrics for user 1 are: Revenue increased by 10000.0, AOV increased by 12.8, CLTV increased by 5.0, PurchaseFrequency increased by 2.2, and ChurnRiskScore decreased by 1.5.', additional_kwargs={}, response_metadata={'token_usage': {'completion_tokens': 59, 'prompt_tokens': 1503, 'total_tokens': 1562, 'completion_time': 0.186170269, 'prompt_time': 0.143018552, 'queue_time': 0.497752768, 'total_time': 0.329188821}, 'model_name': 'llama3-70b-8192', 'system_fingerprint': 'fp_2f30b0b571', 'finish_reason': 'stop', 'logprobs': None}, id='run-ece75be6-cfaf-4bd0-ba35-58af1cf96979-0', usage_metadata={'input_tokens': 1503, 'output_tokens': 59, 'total_tokens': 1562})]}"
      ]
     },
     "execution_count": 16,
     "metadata": {},
     "output_type": "execute_result"
    }
   ],
   "source": [
    "agent.invoke({\"messages\": [(\"user\",\"give the significant changes in metrics for user 1\")]})"
   ]
  },
  {
   "cell_type": "code",
   "execution_count": 17,
   "metadata": {},
   "outputs": [
    {
     "name": "stdout",
     "output_type": "stream",
     "text": [
      "\n",
      "\n",
      "\u001b[1m> Entering new KuzuQAChain chain...\u001b[0m\n",
      "Generated Cypher:\n",
      "\u001b[32;1m\u001b[1;3mMATCH (u:User)-[:Associated]->(m:Metrics) WHERE LOWER(u.user_name) = 'aov' RETURN m.metric_name, m.cur_value, m.change, m.trend, m.goal\u001b[0m\n",
      "Full Context:\n",
      "\u001b[32;1m\u001b[1;3m[]\u001b[0m\n",
      "\n",
      "\u001b[1m> Finished chain.\u001b[0m\n",
      "\n",
      "\n",
      "\u001b[1m> Entering new KuzuQAChain chain...\u001b[0m\n",
      "Generated Cypher:\n",
      "\u001b[32;1m\u001b[1;3mMATCH (u:User {user_name: LOWER(\"AOV\"}))-[:Associated]->(m:Metrics)-[:Impacts|Drives]-(d:Dimensions) RETURN d.dimension_name AS dimension_name, d.dimension_description AS dimension_description ORDER BY d.dimension_name ASC\u001b[0m\n",
      "\n",
      "\n",
      "\u001b[1m> Entering new KuzuQAChain chain...\u001b[0m\n",
      "Generated Cypher:\n",
      "\u001b[32;1m\u001b[1;3mMATCH (d:Dimensions)-[:Drives]->(m:Metrics) WHERE LOWER(m.metric_name) = 'aov' RETURN d.dimension_name, m.cur_value\u001b[0m\n",
      "Full Context:\n",
      "\u001b[32;1m\u001b[1;3m[{'d.dimension_name': 'PaymentType', 'm.cur_value': 135.8}, {'d.dimension_name': 'AgeGroup', 'm.cur_value': 135.8}, {'d.dimension_name': 'IncomeBracket', 'm.cur_value': 135.8}]\u001b[0m\n",
      "\n",
      "\u001b[1m> Finished chain.\u001b[0m\n"
     ]
    },
    {
     "data": {
      "text/plain": [
       "{'messages': [HumanMessage(content='which dimension caused the change in metric AOV', additional_kwargs={}, response_metadata={}, id='6c94e7f7-d71a-491b-b217-93f75de04444'),\n",
       "  AIMessage(content='', additional_kwargs={'tool_calls': [{'id': 'call_gejj', 'function': {'arguments': '{\"__arg1\":\"AOV\"}', 'name': 'Kuzu Query Tool'}, 'type': 'function'}]}, response_metadata={'token_usage': {'completion_tokens': 48, 'prompt_tokens': 1372, 'total_tokens': 1420, 'completion_time': 0.145856778, 'prompt_time': 0.107954638, 'queue_time': 0.43370683299999996, 'total_time': 0.253811416}, 'model_name': 'llama3-70b-8192', 'system_fingerprint': 'fp_2f30b0b571', 'finish_reason': 'tool_calls', 'logprobs': None}, id='run-81ae57b6-6cf6-4580-b9f5-65ec981b896d-0', tool_calls=[{'name': 'Kuzu Query Tool', 'args': {'__arg1': 'AOV'}, 'id': 'call_gejj', 'type': 'tool_call'}], usage_metadata={'input_tokens': 1372, 'output_tokens': 48, 'total_tokens': 1420}),\n",
       "  ToolMessage(content=\"I don't know the answer.\", name='Kuzu Query Tool', id='9ab9a0a5-0f56-442a-98ae-161f51f08881', tool_call_id='call_gejj'),\n",
       "  AIMessage(content='', additional_kwargs={'tool_calls': [{'id': 'call_aezk', 'function': {'arguments': '{\"__arg1\":\"{\\\\\"metric\\\\\":\\\\\"AOV\\\\\",\\\\\"dimensions\\\\\":[]}\"}', 'name': 'calculate_correlation_tool'}, 'type': 'function'}]}, response_metadata={'token_usage': {'completion_tokens': 46, 'prompt_tokens': 1444, 'total_tokens': 1490, 'completion_time': 0.13947269, 'prompt_time': 0.078674507, 'queue_time': 0.02673643199999999, 'total_time': 0.218147197}, 'model_name': 'llama3-70b-8192', 'system_fingerprint': 'fp_2f30b0b571', 'finish_reason': 'tool_calls', 'logprobs': None}, id='run-aab3ec66-08ba-4273-b2a5-24c109f1557e-0', tool_calls=[{'name': 'calculate_correlation_tool', 'args': {'__arg1': '{\"metric\":\"AOV\",\"dimensions\":[]}'}, 'id': 'call_aezk', 'type': 'tool_call'}], usage_metadata={'input_tokens': 1444, 'output_tokens': 46, 'total_tokens': 1490}),\n",
       "  ToolMessage(content=\"Error: Input must contain both 'metric' and 'dimensions'.\", name='calculate_correlation_tool', id='5c4cab26-dee5-461b-8350-de9a614f2b24', tool_call_id='call_aezk'),\n",
       "  AIMessage(content='', additional_kwargs={'tool_calls': [{'id': 'call_nqpq', 'function': {'arguments': '{\"__arg1\":\"dimensions associated with AOV\"}', 'name': 'Kuzu Query Tool'}, 'type': 'function'}]}, response_metadata={'token_usage': {'completion_tokens': 44, 'prompt_tokens': 1532, 'total_tokens': 1576, 'completion_time': 0.138760176, 'prompt_time': 0.112964297, 'queue_time': 0.147261445, 'total_time': 0.251724473}, 'model_name': 'llama3-70b-8192', 'system_fingerprint': 'fp_2f30b0b571', 'finish_reason': 'tool_calls', 'logprobs': None}, id='run-06ee3a3b-f6fd-4b42-913f-828e845c185c-0', tool_calls=[{'name': 'Kuzu Query Tool', 'args': {'__arg1': 'dimensions associated with AOV'}, 'id': 'call_nqpq', 'type': 'tool_call'}], usage_metadata={'input_tokens': 1532, 'output_tokens': 44, 'total_tokens': 1576}),\n",
       "  ToolMessage(content='Error: RuntimeError(\\'Parser exception: Invalid input <MATCH (u:User {user_name: LOWER(\"AOV\"}>: expected rule oC_SingleQuery (line: 1, offset: 37)\\\\n\"MATCH (u:User {user_name: LOWER(\"AOV\"}))-[:Associated]->(m:Metrics)-[:Impacts|Drives]-(d:Dimensions) RETURN d.dimension_name AS dimension_name, d.dimension_description AS dimension_description ORDER BY d.dimension_name ASC\"\\\\n                                      ^\\')\\n Please fix your mistakes.', name='Kuzu Query Tool', id='13f0443e-a555-49bb-bc74-9aae6940bfc9', tool_call_id='call_nqpq', status='error'),\n",
       "  AIMessage(content='', additional_kwargs={'tool_calls': [{'id': 'call_x2fy', 'function': {'arguments': '{\"__arg1\":\"dimensions driving AOV\"}', 'name': 'Kuzu Query Tool'}, 'type': 'function'}]}, response_metadata={'token_usage': {'completion_tokens': 43, 'prompt_tokens': 1712, 'total_tokens': 1755, 'completion_time': 0.127345456, 'prompt_time': 0.097738167, 'queue_time': 0.146543156, 'total_time': 0.225083623}, 'model_name': 'llama3-70b-8192', 'system_fingerprint': 'fp_753a4aecf6', 'finish_reason': 'tool_calls', 'logprobs': None}, id='run-c396fce2-2608-4610-9684-cf642d5ad8ba-0', tool_calls=[{'name': 'Kuzu Query Tool', 'args': {'__arg1': 'dimensions driving AOV'}, 'id': 'call_x2fy', 'type': 'tool_call'}], usage_metadata={'input_tokens': 1712, 'output_tokens': 43, 'total_tokens': 1755}),\n",
       "  ToolMessage(content='PaymentType, AgeGroup, IncomeBracket are the dimensions driving AOV.', name='Kuzu Query Tool', id='454bcedc-fd94-437b-a270-3b6b08126f8f', tool_call_id='call_x2fy'),\n",
       "  AIMessage(content='', additional_kwargs={'tool_calls': [{'id': 'call_xgqx', 'function': {'arguments': '{\"__arg1\":\"{\\\\\"metric\\\\\":\\\\\"AOV\\\\\",\\\\\"dimensions\\\\\":[\\\\\"PaymentType\\\\\",\\\\\"AgeGroup\\\\\",\\\\\"IncomeBracket\\\\\"]}\"}', 'name': 'calculate_correlation_tool'}, 'type': 'function'}]}, response_metadata={'token_usage': {'completion_tokens': 59, 'prompt_tokens': 1796, 'total_tokens': 1855, 'completion_time': 0.179907484, 'prompt_time': 0.093444008, 'queue_time': 0.022073125, 'total_time': 0.273351492}, 'model_name': 'llama3-70b-8192', 'system_fingerprint': 'fp_753a4aecf6', 'finish_reason': 'tool_calls', 'logprobs': None}, id='run-be545b97-fa1d-49f5-9f27-72a41dddceb5-0', tool_calls=[{'name': 'calculate_correlation_tool', 'args': {'__arg1': '{\"metric\":\"AOV\",\"dimensions\":[\"PaymentType\",\"AgeGroup\",\"IncomeBracket\"]}'}, 'id': 'call_xgqx', 'type': 'tool_call'}], usage_metadata={'input_tokens': 1796, 'output_tokens': 59, 'total_tokens': 1855}),\n",
       "  ToolMessage(content='{\"PaymentType\":0.2264682621,\"AgeGroup\":0.4424131122,\"IncomeBracket\":0.019896886}', name='calculate_correlation_tool', id='e583de1c-c6dc-4b0e-b54d-ab462c39f68c', tool_call_id='call_xgqx'),\n",
       "  AIMessage(content='The dimension that caused the change in metric AOV is AgeGroup, with a correlation of 0.4424131122.', additional_kwargs={}, response_metadata={'token_usage': {'completion_tokens': 27, 'prompt_tokens': 1911, 'total_tokens': 1938, 'completion_time': 0.079974786, 'prompt_time': 0.170781414, 'queue_time': 2.163991585, 'total_time': 0.2507562}, 'model_name': 'llama3-70b-8192', 'system_fingerprint': 'fp_2f30b0b571', 'finish_reason': 'stop', 'logprobs': None}, id='run-45190900-9fe0-4a88-a58e-d265dc630f63-0', usage_metadata={'input_tokens': 1911, 'output_tokens': 27, 'total_tokens': 1938})]}"
      ]
     },
     "execution_count": 17,
     "metadata": {},
     "output_type": "execute_result"
    }
   ],
   "source": [
    "agent.invoke({\"messages\": [(\"user\",\"which dimension caused the change in metric AOV\"),\n",
    "                           ]})"
   ]
  }
 ],
 "metadata": {
  "kernelspec": {
   "display_name": ".venv",
   "language": "python",
   "name": "python3"
  },
  "language_info": {
   "codemirror_mode": {
    "name": "ipython",
    "version": 3
   },
   "file_extension": ".py",
   "mimetype": "text/x-python",
   "name": "python",
   "nbconvert_exporter": "python",
   "pygments_lexer": "ipython3",
   "version": "3.12.3"
  }
 },
 "nbformat": 4,
 "nbformat_minor": 2
}
